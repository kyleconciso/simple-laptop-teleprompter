{
 "cells": [
  {
   "attachments": {},
   "cell_type": "markdown",
   "metadata": {},
   "source": [
    "Import tkinter"
   ]
  },
  {
   "cell_type": "code",
   "execution_count": 19,
   "metadata": {},
   "outputs": [],
   "source": [
    "import tkinter as tk\n",
    "import tkinter.font"
   ]
  },
  {
   "attachments": {},
   "cell_type": "markdown",
   "metadata": {},
   "source": [
    "Config"
   ]
  },
  {
   "cell_type": "code",
   "execution_count": 20,
   "metadata": {},
   "outputs": [],
   "source": [
    "height = 15"
   ]
  },
  {
   "attachments": {},
   "cell_type": "markdown",
   "metadata": {},
   "source": [
    "Initialize GUI"
   ]
  },
  {
   "cell_type": "code",
   "execution_count": 21,
   "metadata": {},
   "outputs": [
    {
     "data": {
      "text/plain": [
       "''"
      ]
     },
     "execution_count": 21,
     "metadata": {},
     "output_type": "execute_result"
    }
   ],
   "source": [
    "root = tk.Tk()\n",
    "root.title(\"Teleprompter\")\n",
    "root.geometry(\"%dx%d+%d+%d\" % (root.winfo_screenwidth(), height, 0, 0))\n",
    "root.overrideredirect(True)\n",
    "root.wm_attributes(\"-topmost\", True)"
   ]
  },
  {
   "attachments": {},
   "cell_type": "markdown",
   "metadata": {},
   "source": [
    "A function to move the word of a label in the center of the window"
   ]
  },
  {
   "cell_type": "code",
   "execution_count": 22,
   "metadata": {},
   "outputs": [],
   "source": [
    "def center_label(label, target_word=None, target_index=None):\n",
    "    \"\"\"Center a label around a target word\"\"\"\n",
    "    sentence = label.cget(\"text\")\n",
    "    words = sentence.split(\" \")\n",
    "    \n",
    "    if not target_index and target_word:\n",
    "        target_index = words.index(target_word)\n",
    "    elif not target_word and target_index:\n",
    "        target_word = words[target_index]\n",
    "    else:\n",
    "        return\n",
    "\n",
    "    # get the font\n",
    "    font = tk.font.Font(font=label.cget(\"font\"))\n",
    "\n",
    "    # get the width of the target word in pixels\n",
    "    target_width = font.measure(target_word)\n",
    "\n",
    "    # get the width of the sentence up to the target word, and the width of the target word up to the last word\n",
    "    left_width = font.measure(\" \".join(words[:target_index]))\n",
    "\n",
    "    # place the label to center the target word\n",
    "    label.place(x=((root.winfo_screenwidth() - target_width) / 2 - left_width)-10, y=-(height / 2))"
   ]
  },
  {
   "attachments": {},
   "cell_type": "markdown",
   "metadata": {},
   "source": [
    "Test the function"
   ]
  },
  {
   "cell_type": "code",
   "execution_count": 23,
   "metadata": {},
   "outputs": [],
   "source": [
    "# sentence = \"This is a really long sentence that I want to center around a specific word.\"\n",
    "# target = \"center\"\n",
    "\n",
    "# # initialize label\n",
    "# label = tk.Label(root, text=sentence, font=(\"Helvetica\", height), fg=\"white\", bg=\"black\")\n",
    "\n",
    "# # center the label around the target word\n",
    "# center_label(label, target_word=target)\n",
    "\n",
    "# # run mainloop and kill process after 3 seconds\n",
    "# root.after(3000, lambda: root.destroy())\n",
    "# root.mainloop()"
   ]
  },
  {
   "attachments": {},
   "cell_type": "markdown",
   "metadata": {},
   "source": [
    "Loop all sentence words"
   ]
  },
  {
   "cell_type": "code",
   "execution_count": 24,
   "metadata": {},
   "outputs": [],
   "source": [
    "sentence = \"This is a really long sentence that I want to center around a specific word.\"\n",
    "sentence_words = sentence.split(\" \")\n",
    "\n",
    "# initialize label\n",
    "label = tk.Label(root, text =sentence, font=(\"Helvetica\", height), fg=\"white\", bg=\"black\")\n",
    "\n",
    "# loop function to center the label around the target word, root after 1 second for each word\n",
    "def loop():\n",
    "    for i, word in enumerate(sentence_words):\n",
    "        center_label(label, target_index=i)\n",
    "        root.update()\n",
    "        root.after(250)\n",
    "    \n",
    "    root.after(0, lambda: root.destroy())\n",
    "\n",
    "# run mainloop\n",
    "root.after(0, loop)\n",
    "root.mainloop()"
   ]
  }
 ],
 "metadata": {
  "kernelspec": {
   "display_name": "Python 3",
   "language": "python",
   "name": "python3"
  },
  "language_info": {
   "codemirror_mode": {
    "name": "ipython",
    "version": 3
   },
   "file_extension": ".py",
   "mimetype": "text/x-python",
   "name": "python",
   "nbconvert_exporter": "python",
   "pygments_lexer": "ipython3",
   "version": "3.11.1"
  },
  "orig_nbformat": 4,
  "vscode": {
   "interpreter": {
    "hash": "fcf754d93dd2fd877bbfe960caadefa8a9658d45d00c6592b9feb6b4651e4a08"
   }
  }
 },
 "nbformat": 4,
 "nbformat_minor": 2
}
